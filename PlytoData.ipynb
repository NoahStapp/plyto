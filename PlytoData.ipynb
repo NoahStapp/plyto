{
 "cells": [
  {
   "cell_type": "markdown",
   "metadata": {},
   "source": [
    "## Introduction to Plyto for Data Exploration\n",
    "Currently Plyto provides two functions to check your Pandas DataFrame for abnormalities as well as further explore specific columns."
   ]
  },
  {
   "cell_type": "code",
   "execution_count": null,
   "metadata": {},
   "outputs": [],
   "source": [
    "from plyto import check_data, check_column\n",
    "import pandas as pd\n",
    "data = pd.read_csv('titanic3.csv')"
   ]
  },
  {
   "cell_type": "code",
   "execution_count": null,
   "metadata": {},
   "outputs": [],
   "source": [
    "data.columns"
   ]
  },
  {
   "cell_type": "markdown",
   "metadata": {},
   "source": [
    "#### Check Data"
   ]
  },
  {
   "cell_type": "markdown",
   "metadata": {},
   "source": [
    "The check_data function looks for abnormalties in data columns. The function must take in a dataframe, and has optional parameters to specify which columns to check and cutoff points for what you consider abnormal in your data.\n",
    "\n",
    "Below is an example of the check_data function specifying columns, a cutoff point for proportion of missing or zero values that I consider abnormal (0.10), a cutoff point for high cardinality of categorical data, a cutoff point for high frequency of floating point numbers, and a cutoff point for low frequency of categories in categorical data. Another option that this function has is to specify your own outlier function that should take in the dataset and column name and output a lower limit and an upper limit for outliers. By default, the outlier function has lower and upper limits of 1.5*IQR above the third quartile and below the first quartile."
   ]
  },
  {
   "cell_type": "code",
   "execution_count": null,
   "metadata": {},
   "outputs": [],
   "source": [
    "check_data(data, columns=['sex','survived','parch','age'], \n",
    "          missing=0.10, cardinality=25, float_frequency=45, category_frequency=150)"
   ]
  },
  {
   "cell_type": "markdown",
   "metadata": {},
   "source": [
    "#### Check Column(s)"
   ]
  },
  {
   "cell_type": "markdown",
   "metadata": {},
   "source": [
    "The check_column function gives you a more detailed look on one or more columns of the DataFrame with summary statistics, a plot of the column's distribution, and the same abnormality details given by the check_data function. The DataFrame and either a single column name or list of column names are required parameters. Optional parameters include all those used in check_data as well as bins, which specifies the maximum number of bins in the distribution plot if the plot is of quantitative data.\n",
    "\n",
    "From the check_data call above, we found that the *parch* column (the number of parents / children an individual had aboard) has high outliers. Below we inspect this column further with check_column."
   ]
  },
  {
   "cell_type": "code",
   "execution_count": null,
   "metadata": {},
   "outputs": [],
   "source": [
    "check_column(data, 'parch', bins=15, missing=0.10, cardinality=25, float_frequency=45, category_frequency=150)"
   ]
  },
  {
   "cell_type": "markdown",
   "metadata": {},
   "source": [
    "After observing this column more carefully, we can conclude that the high outliers make sense, and they are only considered outliers because of how many individuals traveled without any parents or children."
   ]
  },
  {
   "cell_type": "markdown",
   "metadata": {},
   "source": [
    "No abnormalities were found in the sex column, but if you were still curious about its distribution you could check both of these columns in one function call."
   ]
  },
  {
   "cell_type": "code",
   "execution_count": null,
   "metadata": {},
   "outputs": [],
   "source": [
    "check_column(data, ['parch', 'sex'], bins=[15, False], missing=0.10, cardinality=25, float_frequency=45, category_frequency=150)"
   ]
  }
 ],
 "metadata": {
  "kernelspec": {
   "display_name": "Python 3",
   "language": "python",
   "name": "python3"
  },
  "language_info": {
   "codemirror_mode": {
    "name": "ipython",
    "version": 3
   },
   "file_extension": ".py",
   "mimetype": "text/x-python",
   "name": "python",
   "nbconvert_exporter": "python",
   "pygments_lexer": "ipython3",
   "version": "3.6.5"
  }
 },
 "nbformat": 4,
 "nbformat_minor": 2
}
